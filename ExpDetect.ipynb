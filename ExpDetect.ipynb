{
 "cells": [
  {
   "cell_type": "code",
   "execution_count": 6,
   "metadata": {},
   "outputs": [
    {
     "name": "stderr",
     "output_type": "stream",
     "text": [
      "C:\\Users\\nemat\\Anaconda3\\envs\\hrd\\lib\\site-packages\\tensorflow\\python\\framework\\dtypes.py:516: FutureWarning: Passing (type, 1) or '1type' as a synonym of type is deprecated; in a future version of numpy, it will be understood as (type, (1,)) / '(1,)type'.\n",
      "  _np_qint8 = np.dtype([(\"qint8\", np.int8, 1)])\n",
      "C:\\Users\\nemat\\Anaconda3\\envs\\hrd\\lib\\site-packages\\tensorflow\\python\\framework\\dtypes.py:517: FutureWarning: Passing (type, 1) or '1type' as a synonym of type is deprecated; in a future version of numpy, it will be understood as (type, (1,)) / '(1,)type'.\n",
      "  _np_quint8 = np.dtype([(\"quint8\", np.uint8, 1)])\n",
      "C:\\Users\\nemat\\Anaconda3\\envs\\hrd\\lib\\site-packages\\tensorflow\\python\\framework\\dtypes.py:518: FutureWarning: Passing (type, 1) or '1type' as a synonym of type is deprecated; in a future version of numpy, it will be understood as (type, (1,)) / '(1,)type'.\n",
      "  _np_qint16 = np.dtype([(\"qint16\", np.int16, 1)])\n",
      "C:\\Users\\nemat\\Anaconda3\\envs\\hrd\\lib\\site-packages\\tensorflow\\python\\framework\\dtypes.py:519: FutureWarning: Passing (type, 1) or '1type' as a synonym of type is deprecated; in a future version of numpy, it will be understood as (type, (1,)) / '(1,)type'.\n",
      "  _np_quint16 = np.dtype([(\"quint16\", np.uint16, 1)])\n",
      "C:\\Users\\nemat\\Anaconda3\\envs\\hrd\\lib\\site-packages\\tensorflow\\python\\framework\\dtypes.py:520: FutureWarning: Passing (type, 1) or '1type' as a synonym of type is deprecated; in a future version of numpy, it will be understood as (type, (1,)) / '(1,)type'.\n",
      "  _np_qint32 = np.dtype([(\"qint32\", np.int32, 1)])\n",
      "C:\\Users\\nemat\\Anaconda3\\envs\\hrd\\lib\\site-packages\\tensorflow\\python\\framework\\dtypes.py:525: FutureWarning: Passing (type, 1) or '1type' as a synonym of type is deprecated; in a future version of numpy, it will be understood as (type, (1,)) / '(1,)type'.\n",
      "  np_resource = np.dtype([(\"resource\", np.ubyte, 1)])\n",
      "C:\\Users\\nemat\\Anaconda3\\envs\\hrd\\lib\\site-packages\\tensorboard\\compat\\tensorflow_stub\\dtypes.py:541: FutureWarning: Passing (type, 1) or '1type' as a synonym of type is deprecated; in a future version of numpy, it will be understood as (type, (1,)) / '(1,)type'.\n",
      "  _np_qint8 = np.dtype([(\"qint8\", np.int8, 1)])\n",
      "C:\\Users\\nemat\\Anaconda3\\envs\\hrd\\lib\\site-packages\\tensorboard\\compat\\tensorflow_stub\\dtypes.py:542: FutureWarning: Passing (type, 1) or '1type' as a synonym of type is deprecated; in a future version of numpy, it will be understood as (type, (1,)) / '(1,)type'.\n",
      "  _np_quint8 = np.dtype([(\"quint8\", np.uint8, 1)])\n",
      "C:\\Users\\nemat\\Anaconda3\\envs\\hrd\\lib\\site-packages\\tensorboard\\compat\\tensorflow_stub\\dtypes.py:543: FutureWarning: Passing (type, 1) or '1type' as a synonym of type is deprecated; in a future version of numpy, it will be understood as (type, (1,)) / '(1,)type'.\n",
      "  _np_qint16 = np.dtype([(\"qint16\", np.int16, 1)])\n",
      "C:\\Users\\nemat\\Anaconda3\\envs\\hrd\\lib\\site-packages\\tensorboard\\compat\\tensorflow_stub\\dtypes.py:544: FutureWarning: Passing (type, 1) or '1type' as a synonym of type is deprecated; in a future version of numpy, it will be understood as (type, (1,)) / '(1,)type'.\n",
      "  _np_quint16 = np.dtype([(\"quint16\", np.uint16, 1)])\n",
      "C:\\Users\\nemat\\Anaconda3\\envs\\hrd\\lib\\site-packages\\tensorboard\\compat\\tensorflow_stub\\dtypes.py:545: FutureWarning: Passing (type, 1) or '1type' as a synonym of type is deprecated; in a future version of numpy, it will be understood as (type, (1,)) / '(1,)type'.\n",
      "  _np_qint32 = np.dtype([(\"qint32\", np.int32, 1)])\n",
      "C:\\Users\\nemat\\Anaconda3\\envs\\hrd\\lib\\site-packages\\tensorboard\\compat\\tensorflow_stub\\dtypes.py:550: FutureWarning: Passing (type, 1) or '1type' as a synonym of type is deprecated; in a future version of numpy, it will be understood as (type, (1,)) / '(1,)type'.\n",
      "  np_resource = np.dtype([(\"resource\", np.ubyte, 1)])\n",
      "WARNING: Logging before flag parsing goes to stderr.\n",
      "W1029 21:10:01.024573 13580 deprecation_wrapper.py:119] From C:\\Users\\nemat\\Anaconda3\\envs\\hrd\\lib\\site-packages\\tflearn\\helpers\\summarizer.py:9: The name tf.summary.merge is deprecated. Please use tf.compat.v1.summary.merge instead.\n",
      "\n",
      "W1029 21:10:01.025569 13580 deprecation_wrapper.py:119] From C:\\Users\\nemat\\Anaconda3\\envs\\hrd\\lib\\site-packages\\tflearn\\helpers\\trainer.py:25: The name tf.summary.FileWriter is deprecated. Please use tf.compat.v1.summary.FileWriter instead.\n",
      "\n",
      "W1029 21:10:01.044518 13580 deprecation_wrapper.py:119] From C:\\Users\\nemat\\Anaconda3\\envs\\hrd\\lib\\site-packages\\tflearn\\collections.py:13: The name tf.GraphKeys is deprecated. Please use tf.compat.v1.GraphKeys instead.\n",
      "\n",
      "W1029 21:10:01.059481 13580 deprecation_wrapper.py:119] From C:\\Users\\nemat\\Anaconda3\\envs\\hrd\\lib\\site-packages\\tflearn\\config.py:123: The name tf.get_collection is deprecated. Please use tf.compat.v1.get_collection instead.\n",
      "\n",
      "W1029 21:10:01.070448 13580 deprecation_wrapper.py:119] From C:\\Users\\nemat\\Anaconda3\\envs\\hrd\\lib\\site-packages\\tflearn\\config.py:129: The name tf.add_to_collection is deprecated. Please use tf.compat.v1.add_to_collection instead.\n",
      "\n",
      "W1029 21:10:01.071447 13580 deprecation_wrapper.py:119] From C:\\Users\\nemat\\Anaconda3\\envs\\hrd\\lib\\site-packages\\tflearn\\config.py:131: The name tf.assign is deprecated. Please use tf.compat.v1.assign instead.\n",
      "\n"
     ]
    },
    {
     "name": "stdout",
     "output_type": "stream",
     "text": [
      "curses is not supported on this machine (please install/reinstall curses for an optimal experience)\n"
     ]
    }
   ],
   "source": [
    "import pandas as pd\n",
    "import cv2\n",
    "import numpy as np\n",
    "import matplotlib.pyplot as plt\n",
    "import tensorflow as tf \n",
    "import tflearn \n",
    "from tflearn.layers.conv import conv_2d, max_pool_2d \n",
    "from tflearn.layers.core import input_data, dropout, fully_connected \n",
    "from tflearn.layers.estimator import regression "
   ]
  },
  {
   "cell_type": "code",
   "execution_count": 51,
   "metadata": {},
   "outputs": [],
   "source": [
    "import time, sys\n",
    "from IPython.display import clear_output\n",
    "\n",
    "def update_progress(progress):\n",
    "    bar_length = 20\n",
    "    if isinstance(progress, int):\n",
    "        progress = float(progress)\n",
    "    if not isinstance(progress, float):\n",
    "        progress = 0\n",
    "    if progress < 0:\n",
    "        progress = 0\n",
    "    if progress >= 1:\n",
    "        progress = 1\n",
    "    block = int(round(bar_length * progress))\n",
    "\n",
    "    clear_output(wait = True)\n",
    "    text = \"Progress: [{0}] {1:.1f}%\".format( \"#\" * block + \"-\" * (bar_length - block), progress * 100)\n",
    "    print(text)\n",
    "\n",
    "\n",
    "\n"
   ]
  },
  {
   "cell_type": "code",
   "execution_count": 209,
   "metadata": {},
   "outputs": [
    {
     "data": {
      "text/plain": [
       "(4178, 2)"
      ]
     },
     "execution_count": 209,
     "metadata": {},
     "output_type": "execute_result"
    }
   ],
   "source": [
    "train_data=pd.read_csv('train.csv')\n",
    "train_data.shape\n"
   ]
  },
  {
   "cell_type": "code",
   "execution_count": 210,
   "metadata": {},
   "outputs": [],
   "source": [
    "def gettraindata():\n",
    "    train_data=pd.read_csv('train.csv')\n",
    "    trdata=[]\n",
    "    for i in range(4178):\n",
    "        label=[0]*7\n",
    "        label[np.array(train_data)[i,0]]=1\n",
    "        str1=np.array(train_data)[i,1]\n",
    "        str1=str1.split(\" \")\n",
    "        for j in range(48*48):\n",
    "            str1[j]=int(str1[j])\n",
    "        str1=np.array(str1)\n",
    "        str1=np.reshape(str1,(48,48))\n",
    "        trdata.append([str1,label])\n",
    "        np.save('train_data.npy', trdata)\n",
    "        #print(\"done\",i, \"of 4178\")\n",
    "        update_progress(i /4178)\n",
    "    print(\"complete..\")\n",
    "    return trdata"
   ]
  },
  {
   "cell_type": "code",
   "execution_count": 49,
   "metadata": {},
   "outputs": [],
   "source": [
    "def gettestdata():\n",
    "    test_data=pd.read_csv('test.csv')\n",
    "    tstdata=[]\n",
    "    for i in range(13):\n",
    "        str1=np.array(test_data)[i,0]\n",
    "        str1=str1.split(\" \")\n",
    "        for i in range(48*48):\n",
    "            str1[i]=int(str1[i])\n",
    "        str1=np.array(str1)\n",
    "        str1=np.reshape(str1,(48,48))\n",
    "        tstdata.append(str1)\n",
    "        np.save('test_data.npy', tstdata)\n",
    "        print(i, \"of 1312\")\n",
    "        update_progress(i /13)\n",
    "    return tstdata"
   ]
  },
  {
   "cell_type": "code",
   "execution_count": 7,
   "metadata": {},
   "outputs": [
    {
     "name": "stderr",
     "output_type": "stream",
     "text": [
      "W1029 21:10:04.074991 13580 deprecation_wrapper.py:119] From C:\\Users\\nemat\\Anaconda3\\envs\\hrd\\lib\\site-packages\\tflearn\\layers\\core.py:81: The name tf.placeholder is deprecated. Please use tf.compat.v1.placeholder instead.\n",
      "\n",
      "W1029 21:10:04.078988 13580 deprecation.py:506] From C:\\Users\\nemat\\Anaconda3\\envs\\hrd\\lib\\site-packages\\tflearn\\initializations.py:119: calling UniformUnitScaling.__init__ (from tensorflow.python.ops.init_ops) with dtype is deprecated and will be removed in a future version.\n",
      "Instructions for updating:\n",
      "Call initializer instance with the dtype argument instead of passing it to the constructor\n",
      "W1029 21:10:04.079980 13580 deprecation.py:323] From C:\\Users\\nemat\\Anaconda3\\envs\\hrd\\lib\\site-packages\\tensorflow\\python\\util\\deprecation.py:507: UniformUnitScaling.__init__ (from tensorflow.python.ops.init_ops) is deprecated and will be removed in a future version.\n",
      "Instructions for updating:\n",
      "Use tf.initializers.variance_scaling instead with distribution=uniform to get equivalent behavior.\n",
      "W1029 21:10:04.108904 13580 deprecation_wrapper.py:119] From C:\\Users\\nemat\\Anaconda3\\envs\\hrd\\lib\\site-packages\\tflearn\\layers\\conv.py:552: The name tf.nn.max_pool is deprecated. Please use tf.nn.max_pool2d instead.\n",
      "\n",
      "W1029 21:10:04.189685 13580 deprecation.py:506] From C:\\Users\\nemat\\Anaconda3\\envs\\hrd\\lib\\site-packages\\tflearn\\initializations.py:174: calling TruncatedNormal.__init__ (from tensorflow.python.ops.init_ops) with dtype is deprecated and will be removed in a future version.\n",
      "Instructions for updating:\n",
      "Call initializer instance with the dtype argument instead of passing it to the constructor\n",
      "W1029 21:10:04.220601 13580 deprecation.py:506] From C:\\Users\\nemat\\Anaconda3\\envs\\hrd\\lib\\site-packages\\tflearn\\layers\\core.py:239: calling dropout (from tensorflow.python.ops.nn_ops) with keep_prob is deprecated and will be removed in a future version.\n",
      "Instructions for updating:\n",
      "Please use `rate` instead of `keep_prob`. Rate should be set to `rate = 1 - keep_prob`.\n",
      "W1029 21:10:04.255513 13580 deprecation_wrapper.py:119] From C:\\Users\\nemat\\Anaconda3\\envs\\hrd\\lib\\site-packages\\tflearn\\optimizers.py:238: The name tf.train.AdamOptimizer is deprecated. Please use tf.compat.v1.train.AdamOptimizer instead.\n",
      "\n",
      "W1029 21:10:04.262490 13580 deprecation.py:506] From C:\\Users\\nemat\\Anaconda3\\envs\\hrd\\lib\\site-packages\\tflearn\\objectives.py:66: calling reduce_sum_v1 (from tensorflow.python.ops.math_ops) with keep_dims is deprecated and will be removed in a future version.\n",
      "Instructions for updating:\n",
      "keep_dims is deprecated, use keepdims instead\n",
      "W1029 21:10:04.335295 13580 deprecation_wrapper.py:119] From C:\\Users\\nemat\\Anaconda3\\envs\\hrd\\lib\\site-packages\\tflearn\\summaries.py:46: The name tf.summary.scalar is deprecated. Please use tf.compat.v1.summary.scalar instead.\n",
      "\n",
      "W1029 21:10:04.387158 13580 deprecation.py:323] From C:\\Users\\nemat\\Anaconda3\\envs\\hrd\\lib\\site-packages\\tensorflow\\python\\ops\\math_grad.py:1250: add_dispatch_support.<locals>.wrapper (from tensorflow.python.ops.array_ops) is deprecated and will be removed in a future version.\n",
      "Instructions for updating:\n",
      "Use tf.where in 2.0, which has the same broadcast rule as np.where\n",
      "W1029 21:10:04.724283 13580 deprecation_wrapper.py:119] From C:\\Users\\nemat\\Anaconda3\\envs\\hrd\\lib\\site-packages\\tflearn\\helpers\\trainer.py:134: The name tf.train.Saver is deprecated. Please use tf.compat.v1.train.Saver instead.\n",
      "\n"
     ]
    }
   ],
   "source": [
    "IMG_SIZE=48\n",
    "LR=1e-3\n",
    "import tflearn \n",
    "from tflearn.layers.conv import conv_2d, max_pool_2d \n",
    "from tflearn.layers.core import input_data, dropout, fully_connected \n",
    "from tflearn.layers.estimator import regression \n",
    "  \n",
    "import tensorflow as tf \n",
    "tf.reset_default_graph() \n",
    "convnet = input_data(shape =[None, IMG_SIZE, IMG_SIZE, 1], name ='input') \n",
    "  \n",
    "convnet = conv_2d(convnet, 32, 5, activation ='relu') \n",
    "convnet = max_pool_2d(convnet, 5) \n",
    "  \n",
    "convnet = conv_2d(convnet, 64, 5, activation ='relu') \n",
    "convnet = max_pool_2d(convnet, 5) \n",
    "  \n",
    "convnet = conv_2d(convnet, 128, 5, activation ='relu') \n",
    "convnet = max_pool_2d(convnet, 5) \n",
    "  \n",
    "convnet = conv_2d(convnet, 64, 5, activation ='relu') \n",
    "convnet = max_pool_2d(convnet, 5) \n",
    "  \n",
    "convnet = conv_2d(convnet, 32, 5, activation ='relu') \n",
    "convnet = max_pool_2d(convnet, 5) \n",
    "  \n",
    "convnet = fully_connected(convnet, 1024, activation ='relu') \n",
    "convnet = dropout(convnet, 0.8) \n",
    "  \n",
    "convnet = fully_connected(convnet, 7, activation ='softmax') \n",
    "convnet = regression(convnet, optimizer ='adam', learning_rate = LR, \n",
    "      loss ='categorical_crossentropy', name ='targets') \n",
    "  \n",
    "model = tflearn.DNN(convnet, tensorboard_dir ='log') "
   ]
  },
  {
   "cell_type": "code",
   "execution_count": 214,
   "metadata": {},
   "outputs": [
    {
     "name": "stdout",
     "output_type": "stream",
     "text": [
      "Progress: [####################] 100.0%\n"
     ]
    }
   ],
   "source": [
    "train_data=gettraindata()\n",
    "test_data=gettestdata()"
   ]
  },
  {
   "cell_type": "code",
   "execution_count": 215,
   "metadata": {},
   "outputs": [],
   "source": [
    "train = train_data[:3500] \n",
    "test = train_data[3500:] "
   ]
  },
  {
   "cell_type": "code",
   "execution_count": 216,
   "metadata": {},
   "outputs": [],
   "source": [
    "X = np.array([i[0] for i in train]).reshape(-1, 48, 48, 1) \n",
    "Y = [i[1] for i in train] \n",
    "test_x = np.array([i[0] for i in test]).reshape(-1, 48, 48, 1) \n",
    "test_y = [i[1] for i in test] "
   ]
  },
  {
   "cell_type": "code",
   "execution_count": 112,
   "metadata": {},
   "outputs": [],
   "source": [
    "Y=np.array(Y)\n",
    "Y.shape\n",
    "Y1=Y"
   ]
  },
  {
   "cell_type": "code",
   "execution_count": 218,
   "metadata": {},
   "outputs": [
    {
     "name": "stdout",
     "output_type": "stream",
     "text": [
      "Training Step: 6049  | total loss: \u001b[1m\u001b[32m0.02980\u001b[0m\u001b[0m | time: 6.453s\n",
      "| Adam | epoch: 110 | loss: 0.02980 - acc: 0.9941 -- iter: 3456/3500\n",
      "Training Step: 6050  | total loss: \u001b[1m\u001b[32m0.03252\u001b[0m\u001b[0m | time: 7.562s\n",
      "| Adam | epoch: 110 | loss: 0.03252 - acc: 0.9931 | val_loss: 1.65114 - val_acc: 0.8127 -- iter: 3500/3500\n",
      "--\n"
     ]
    }
   ],
   "source": [
    "MODEL_NAME = 'emotion-{}-{}.model'.format(1e-3, '6conv-basic') \n",
    "model.fit({'input': X}, {'targets': Y}, n_epoch = 100,  \n",
    "    validation_set =({'input': test_x}, {'targets': test_y}),  \n",
    "          snapshot_step = 100,show_metric=True) \n",
    "model.save(MODEL_NAME) "
   ]
  },
  {
   "cell_type": "code",
   "execution_count": 8,
   "metadata": {},
   "outputs": [
    {
     "name": "stderr",
     "output_type": "stream",
     "text": [
      "W1029 21:10:11.106724 13580 deprecation.py:323] From C:\\Users\\nemat\\Anaconda3\\envs\\hrd\\lib\\site-packages\\tensorflow\\python\\training\\saver.py:1276: checkpoint_exists (from tensorflow.python.training.checkpoint_management) is deprecated and will be removed in a future version.\n",
      "Instructions for updating:\n",
      "Use standard file APIs to check for files with this prefix.\n"
     ]
    }
   ],
   "source": [
    "MODEL_NAME = 'emotion-{}-{}.model'.format(1e-3, '6conv-basic')\n",
    "model.load(MODEL_NAME)\n",
    "model.save('finalmodel')"
   ]
  },
  {
   "cell_type": "code",
   "execution_count": 169,
   "metadata": {},
   "outputs": [
    {
     "ename": "TypeError",
     "evalue": "can't pickle _thread.RLock objects",
     "output_type": "error",
     "traceback": [
      "\u001b[1;31m---------------------------------------------------------------------------\u001b[0m",
      "\u001b[1;31mTypeError\u001b[0m                                 Traceback (most recent call last)",
      "\u001b[1;32m<ipython-input-169-b8bdf5210fae>\u001b[0m in \u001b[0;36m<module>\u001b[1;34m\u001b[0m\n\u001b[0;32m      1\u001b[0m \u001b[1;32mimport\u001b[0m \u001b[0mpickle\u001b[0m\u001b[1;33m\u001b[0m\u001b[1;33m\u001b[0m\u001b[0m\n\u001b[0;32m      2\u001b[0m \u001b[0mfilename\u001b[0m \u001b[1;33m=\u001b[0m \u001b[1;34m'finalized_model.sav'\u001b[0m\u001b[1;33m\u001b[0m\u001b[1;33m\u001b[0m\u001b[0m\n\u001b[1;32m----> 3\u001b[1;33m \u001b[0mpickle\u001b[0m\u001b[1;33m.\u001b[0m\u001b[0mdump\u001b[0m\u001b[1;33m(\u001b[0m\u001b[0mmodel\u001b[0m\u001b[1;33m,\u001b[0m \u001b[0mopen\u001b[0m\u001b[1;33m(\u001b[0m\u001b[0mfilename\u001b[0m\u001b[1;33m,\u001b[0m \u001b[1;34m'wb'\u001b[0m\u001b[1;33m)\u001b[0m\u001b[1;33m)\u001b[0m\u001b[1;33m\u001b[0m\u001b[1;33m\u001b[0m\u001b[0m\n\u001b[0m",
      "\u001b[1;31mTypeError\u001b[0m: can't pickle _thread.RLock objects"
     ]
    }
   ],
   "source": [
    "import pickle\n",
    "filename = 'finalized_model.sav'\n",
    "pickle.dump(model, open(filename, 'wb'))"
   ]
  },
  {
   "cell_type": "code",
   "execution_count": 58,
   "metadata": {},
   "outputs": [
    {
     "name": "stdout",
     "output_type": "stream",
     "text": [
      "Progress: [####################] 100.0%\n",
      "[2.9911537e-06, 8.42887e-07, 9.3555246e-07, 5.863134e-06, 3.9915078e-05, 7.483246e-06, 0.99994195]\n",
      "6\n"
     ]
    },
    {
     "data": {
      "text/plain": [
       "<matplotlib.image.AxesImage at 0x25adf443208>"
      ]
     },
     "execution_count": 58,
     "metadata": {},
     "output_type": "execute_result"
    },
    {
     "data": {
      "image/png": "[encoded data removed]",
      "text/plain": [
       "<Figure size 432x288 with 1 Axes>"
      ]
     },
     "metadata": {
      "needs_background": "light"
     },
     "output_type": "display_data"
    }
   ],
   "source": [
    "import matplotlib.pyplot as plt \n",
    "test_data = np.load('test_data.npy') \n",
    "img=cv2.imread('images.jpg')\n",
    "img=cv2.cvtColor(img,cv2.COLOR_BGR2GRAY)\n",
    "arr=gettestdata()\n",
    "img=np.array(arr[12])\n",
    "#img=img[80:240,70:180]\n",
    "img=cv2.resize(img,(48,48))\n",
    "img1=img\n",
    "img=img.reshape(48,48,1)\n",
    "model_out=model.predict([img])\n",
    "\n",
    "model_out=list(model_out[0])\n",
    "print(model_out)\n",
    "print(model_out.index(max(model_out)))\n",
    "plt.imshow(img1,cmap=\"gray\")"
   ]
  },
  {
   "cell_type": "code",
   "execution_count": 40,
   "metadata": {},
   "outputs": [
    {
     "name": "stdout",
     "output_type": "stream",
     "text": [
      "0 [1, 0, 0, 0, 0, 0, 0]\n",
      "1 [0, 0, 0, 0, 0, 0, 1]\n",
      "2 [0, 0, 0, 0, 0, 0, 1]\n",
      "3 [0, 0, 0, 0, 0, 1, 0]\n",
      "4 [0, 1, 0, 0, 0, 0, 0]\n",
      "5 [1, 0, 0, 0, 0, 0, 0]\n",
      "6 [0, 0, 0, 0, 0, 0, 1]\n",
      "7 [0, 0, 0, 0, 1, 0, 0]\n",
      "8 [0, 0, 0, 0, 0, 1, 0]\n",
      "9 [0, 0, 0, 0, 0, 0, 1]\n",
      "10 [0, 0, 0, 0, 0, 1, 0]\n",
      "11 [0, 0, 0, 0, 0, 1, 0]\n",
      "12 [0, 0, 0, 0, 0, 0, 1]\n",
      "13 [0, 0, 0, 0, 0, 1, 0]\n",
      "14 [0, 0, 0, 0, 0, 1, 0]\n",
      "15 [0, 0, 0, 0, 0, 1, 0]\n",
      "16 [0, 0, 0, 0, 1, 0, 0]\n",
      "17 [0, 0, 0, 0, 0, 0, 1]\n",
      "18 [0, 0, 0, 0, 0, 1, 0]\n",
      "19 [0, 0, 0, 0, 1, 0, 0]\n"
     ]
    },
    {
     "data": {
      "image/png": "[encoded data removed]",
      "text/plain": [
       "<Figure size 432x288 with 20 Axes>"
      ]
     },
     "metadata": {
      "needs_background": "light"
     },
     "output_type": "display_data"
    }
   ],
   "source": [
    "\n",
    "fig = plt.figure() \n",
    "i=0\n",
    "for num, data in enumerate(test_data[:20]):  \n",
    "    img_data = data \n",
    "      \n",
    "   # y = fig.add_subplot(4, 5, num + 1) \n",
    "    orig = img_data \n",
    "    data = img_data.reshape(48, 48, 1) \n",
    "  \n",
    "    # model_out = model.predict([data])[0] \n",
    "    model_out = model.predict([data])\n",
    "    a1rr=[0]*7\n",
    "    y = fig.add_subplot(4, 5, num + 1) \n",
    "    #print(model_out)\n",
    "    model_out=list(model_out[0])\n",
    "    a1rr[model_out.index(max(model_out))]=1\n",
    "    y.imshow(orig, cmap ='gray') \n",
    "    #fig = plt.figure() \n",
    "    print(i,a1rr)\n",
    "    i=i+1\n",
    "    plt.title(model_out.index(max(model_out))) \n",
    "    y.axes.get_xaxis().set_visible(False) \n",
    "    y.axes.get_yaxis().set_visible(False) \n",
    "plt.show() \n"
   ]
  },
  {
   "cell_type": "code",
   "execution_count": 158,
   "metadata": {},
   "outputs": [
    {
     "ename": "NameError",
     "evalue": "name 'str1' is not defined",
     "output_type": "error",
     "traceback": [
      "\u001b[1;31m---------------------------------------------------------------------------\u001b[0m",
      "\u001b[1;31mNameError\u001b[0m                                 Traceback (most recent call last)",
      "\u001b[1;32m<ipython-input-158-6830b08f982a>\u001b[0m in \u001b[0;36m<module>\u001b[1;34m\u001b[0m\n\u001b[1;32m----> 1\u001b[1;33m \u001b[0mstr1\u001b[0m\u001b[1;33m=\u001b[0m\u001b[0mnp\u001b[0m\u001b[1;33m.\u001b[0m\u001b[0mreshape\u001b[0m\u001b[1;33m(\u001b[0m\u001b[0mstr1\u001b[0m\u001b[1;33m,\u001b[0m\u001b[1;33m(\u001b[0m\u001b[1;36m48\u001b[0m\u001b[1;33m,\u001b[0m\u001b[1;36m48\u001b[0m\u001b[1;33m)\u001b[0m\u001b[1;33m)\u001b[0m\u001b[1;33m\u001b[0m\u001b[1;33m\u001b[0m\u001b[0m\n\u001b[0m",
      "\u001b[1;31mNameError\u001b[0m: name 'str1' is not defined"
     ]
    }
   ],
   "source": [
    "plt.imshow(,cmap=\"gray\")"
   ]
  },
  {
   "cell_type": "code",
   "execution_count": 185,
   "metadata": {},
   "outputs": [
    {
     "data": {
      "text/plain": [
       "<matplotlib.image.AxesImage at 0x2b5024663c8>"
      ]
     },
     "execution_count": 185,
     "metadata": {},
     "output_type": "execute_result"
    },
    {
     "data": {
      "image/png": "[encoded data removed]",
      "text/plain": [
       "<Figure size 432x288 with 1 Axes>"
      ]
     },
     "metadata": {
      "needs_background": "light"
     },
     "output_type": "display_data"
    }
   ],
   "source": [
    "plt.imshow(test_data[19],cmap=\"gray\")\n"
   ]
  },
  {
   "cell_type": "code",
   "execution_count": 40,
   "metadata": {},
   "outputs": [
    {
     "data": {
      "text/plain": [
       "array([[1, 2, 3],\n",
       "       [4, 5, 6]])"
      ]
     },
     "execution_count": 40,
     "metadata": {},
     "output_type": "execute_result"
    }
   ],
   "source": [
    "np.reshape(arr,(2,3))"
   ]
  },
  {
   "cell_type": "code",
   "execution_count": 4,
   "metadata": {},
   "outputs": [
    {
     "data": {
      "text/plain": [
       "(512, 512, 3)"
      ]
     },
     "execution_count": 4,
     "metadata": {},
     "output_type": "execute_result"
    }
   ],
   "source": [
    "import numpy as np\n",
    "img = np.zeros([512,512,3])\n",
    "img.shape"
   ]
  },
  {
   "cell_type": "code",
   "execution_count": 137,
   "metadata": {},
   "outputs": [],
   "source": [
    "arr=[0.2,0.7,0.8,0.3,0.5,0.1,0.4]"
   ]
  },
  {
   "cell_type": "code",
   "execution_count": 139,
   "metadata": {},
   "outputs": [],
   "source": [
    "brr=[0]*7\n",
    "brr[arr.index(max(arr))]=1"
   ]
  },
  {
   "cell_type": "code",
   "execution_count": 3,
   "metadata": {},
   "outputs": [
    {
     "ename": "NameError",
     "evalue": "name 'convnet' is not defined",
     "output_type": "error",
     "traceback": [
      "\u001b[1;31m---------------------------------------------------------------------------\u001b[0m",
      "\u001b[1;31mNameError\u001b[0m                                 Traceback (most recent call last)",
      "\u001b[1;32m<ipython-input-3-4edfe7b7b345>\u001b[0m in \u001b[0;36m<module>\u001b[1;34m\u001b[0m\n\u001b[1;32m----> 1\u001b[1;33m \u001b[0mmodel\u001b[0m \u001b[1;33m=\u001b[0m \u001b[0mtflearn\u001b[0m\u001b[1;33m.\u001b[0m\u001b[0mDNN\u001b[0m\u001b[1;33m(\u001b[0m\u001b[0mconvnet\u001b[0m\u001b[1;33m,\u001b[0m \u001b[0mtensorboard_dir\u001b[0m \u001b[1;33m=\u001b[0m\u001b[1;34m'log'\u001b[0m\u001b[1;33m)\u001b[0m\u001b[1;33m\u001b[0m\u001b[1;33m\u001b[0m\u001b[0m\n\u001b[0m",
      "\u001b[1;31mNameError\u001b[0m: name 'convnet' is not defined"
     ]
    }
   ],
   "source": [
    "model = tflearn.DNN(convnet, tensorboard_dir ='log') "
   ]
  },
  {
   "cell_type": "code",
   "execution_count": 14,
   "metadata": {},
   "outputs": [],
   "source": [
    "image=cv2.imread('me.jpg')\n",
    "img=cv2.cvtColor(image, cv2.COLOR_BGR2GRAY)\n",
    "img=cv2.resize(img,(48,48))\n",
    "cv2.imshow('3',img)"
   ]
  },
  {
   "cell_type": "code",
   "execution_count": null,
   "metadata": {},
   "outputs": [],
   "source": [
    "anger=0, disgust=1, fear=2, happy=3, sad=4, surprise=5, neutral=6)"
   ]
  }
 ],
 "metadata": {
  "kernelspec": {
   "display_name": "Python3(hrd)",
   "language": "python",
   "name": "hrd"
  },
  "language_info": {
   "codemirror_mode": {
    "name": "ipython",
    "version": 3
   },
   "file_extension": ".py",
   "mimetype": "text/x-python",
   "name": "python",
   "nbconvert_exporter": "python",
   "pygments_lexer": "ipython3",
   "version": "3.7.4"
  }
 },
 "nbformat": 4,
 "nbformat_minor": 2
}
